{
 "cells": [
  {
   "cell_type": "code",
   "execution_count": null,
   "id": "b2fc7e1a",
   "metadata": {},
   "outputs": [],
   "source": [
    "import numpy as np\n",
    "import pandas as pd\n",
    "import matplotlib.pyplot as plt\n",
    "import seaborn as sns"
   ]
  },
  {
   "cell_type": "code",
   "execution_count": null,
   "metadata": {},
   "outputs": [],
   "source": [
    "df = pd.read_csv(\"export-APS-2025-10-07_02-14-41.csv\",header = 1)\n",
    "df"
   ]
  },
  {
   "cell_type": "code",
   "execution_count": null,
   "metadata": {},
   "outputs": [],
   "source": [
    "df.head()"
   ]
  },
  {
   "cell_type": "code",
   "execution_count": null,
   "metadata": {},
   "outputs": [],
   "source": [
    "df.tail()"
   ]
  },
  {
   "cell_type": "code",
   "execution_count": null,
   "metadata": {},
   "outputs": [],
   "source": [
    "df.info()"
   ]
  },
  {
   "cell_type": "code",
   "execution_count": null,
   "id": "dc768916",
   "metadata": {},
   "outputs": [],
   "source": [
    "df.describe()"
   ]
  },
  {
   "cell_type": "code",
   "execution_count": null,
   "id": "7baf4966",
   "metadata": {},
   "outputs": [],
   "source": [
    "df.columns"
   ]
  },
  {
   "cell_type": "code",
   "execution_count": null,
   "metadata": {},
   "outputs": [],
   "source": [
    "df.shape"
   ]
  },
  {
   "cell_type": "code",
   "execution_count": null,
   "id": "14888d4f",
   "metadata": {},
   "outputs": [],
   "source": [
    "df.size"
   ]
  },
  {
   "cell_type": "code",
   "execution_count": null,
   "id": "9f2feb37",
   "metadata": {},
   "outputs": [],
   "source": [
    "df.isnull().sum()"
   ]
  },
  {
   "cell_type": "code",
   "execution_count": null,
   "id": "7e025b9b",
   "metadata": {},
   "outputs": [],
   "source": [
    "df.duplicated().sum()"
   ]
  },
  {
   "cell_type": "code",
   "execution_count": null,
   "id": "a8cab966",
   "metadata": {},
   "outputs": [],
   "source": [
    "df.drop(columns=['Entrepreneurial Employee Activity', 'Motivational Index',\n",
    "                 'Female/Male Opportunity-Driven TEA', 'Innovation'], inplace=True)"
   ]
  },
  {
   "cell_type": "code",
   "execution_count": null,
   "id": "74a9805d",
   "metadata": {},
   "outputs": [],
   "source": [
    "df.isnull().sum()"
   ]
  },
  {
   "cell_type": "code",
   "execution_count": null,
   "metadata": {},
   "outputs": [],
   "source": [
    "df['High Status to Successful Entrepreneurs'].fillna(df['High Status to Successful Entrepreneurs'].mean(), inplace=True)\n",
    "df['Entrepreneurship as a Good Career Choice'].fillna(df['Entrepreneurship as a Good Career Choice'].mean(), inplace=True)"
   ]
  },
  {
   "cell_type": "code",
   "execution_count": null,
   "id": "1d956262",
   "metadata": {},
   "outputs": [],
   "source": [
    "df.isnull().sum()"
   ]
  },
  {
   "cell_type": "code",
   "execution_count": null,
   "metadata": {},
   "outputs": [],
   "source": [
    "df.info()"
   ]
  },
  {
   "cell_type": "code",
   "execution_count": null,
   "metadata": {},
   "outputs": [],
   "source": [
    "import seaborn as sns\n",
    "import matplotlib.pyplot as plt\n",
    "\n",
    "sns.countplot(x='Entrepreneurial intentions', data=df)\n",
    "plt.title(\"Distribution of Entrepreneurship Intention\")\n",
    "plt.show()"
   ]
  },
  {
   "cell_type": "code",
   "execution_count": null,
   "id": "490dd4ae",
   "metadata": {},
   "outputs": [],
   "source": [
    "X = pd.get_dummies(df.drop(columns=['code', 'Entrepreneurial intentions']), columns=['economy'])\n",
    "y = df['Entrepreneurial intentions']"
   ]
  },
  {
   "cell_type": "code",
   "execution_count": null,
   "metadata": {},
   "outputs": [],
   "source": [
    "plt.figure(figsize=(8,5))\n",
    "sns.histplot(y, bins=20, kde=True)\n",
    "plt.title(\"Distribution of Entrepreneurship Intention\")\n",
    "plt.xlabel(\"Entrepreneurial Intentions (%)\")\n",
    "plt.ylabel(\"Count\")\n",
    "plt.show()"
   ]
  },
  {
   "cell_type": "code",
   "execution_count": null,
   "id": "76730713",
   "metadata": {},
   "outputs": [],
   "source": [
    "from sklearn.model_selection import train_test_split\n",
    "\n",
    "# 80% training, 20% testing\n",
    "X_train, X_test, y_train, y_test = train_test_split(\n",
    "    X, y, test_size=0.2, random_state=42\n",
    ")"
   ]
  },
  {
   "cell_type": "code",
   "execution_count": null,
   "id": "7d2ca11c",
   "metadata": {},
   "outputs": [],
   "source": [
    "from sklearn.preprocessing import StandardScaler\n",
    "\n",
    "scaler = StandardScaler()\n",
    "X_train = scaler.fit_transform(X_train)\n",
    "X_test = scaler.transform(X_test)"
   ]
  },
  {
   "cell_type": "code",
   "execution_count": null,
   "id": "4a94b0ca",
   "metadata": {},
   "outputs": [],
   "source": [
    "# -------------------------------\n",
    "# 1️⃣ Import models and metrics\n",
    "# -------------------------------\n",
    "from sklearn.neighbors import KNeighborsRegressor\n",
    "from sklearn.svm import SVR\n",
    "from sklearn.tree import DecisionTreeRegressor\n",
    "from sklearn.ensemble import RandomForestRegressor\n",
    "from sklearn.metrics import mean_squared_error, r2_score\n",
    "\n",
    "from tensorflow.keras.models import Sequential\n",
    "from tensorflow.keras.layers import Dense\n",
    "\n",
    "# -------------------------------\n",
    "# 2️⃣ Train Regression Models\n",
    "# -------------------------------\n",
    "\n",
    "# KNN\n",
    "knn = KNeighborsRegressor(n_neighbors=5)\n",
    "knn.fit(X_train, y_train)\n",
    "y_pred_knn = knn.predict(X_test)\n",
    "\n",
    "# SVR\n",
    "svr = SVR(kernel='rbf')\n",
    "svr.fit(X_train, y_train)\n",
    "y_pred_svr = svr.predict(X_test)\n",
    "\n",
    "# Decision Tree\n",
    "dt = DecisionTreeRegressor(random_state=42)\n",
    "dt.fit(X_train, y_train)\n",
    "y_pred_dt = dt.predict(X_test)\n",
    "\n",
    "# Random Forest\n",
    "rf = RandomForestRegressor(n_estimators=100, random_state=42)\n",
    "rf.fit(X_train, y_train)\n",
    "y_pred_rf = rf.predict(X_test)\n",
    "\n",
    "# ANN\n",
    "ann = Sequential([\n",
    "    Dense(64, activation='relu', input_shape=(X_train.shape[1],)),\n",
    "    Dense(32, activation='relu'),\n",
    "    Dense(1, activation='linear')  # Linear output for regression\n",
    "])\n",
    "ann.compile(optimizer='adam', loss='mse', metrics=['mae'])\n",
    "ann.fit(X_train, y_train, epochs=100, batch_size=8, verbose=0, validation_split=0.1)\n",
    "y_pred_ann = ann.predict(X_test).flatten()\n",
    "\n",
    "# -------------------------------\n",
    "# 3️⃣ Evaluate Models\n",
    "# -------------------------------\n",
    "def evaluate_model(y_true, y_pred, name):\n",
    "    mse = mean_squared_error(y_true, y_pred)\n",
    "    r2 = r2_score(y_true, y_pred)\n",
    "    print(f\"{name} -> MSE: {mse:.2f}, R²: {r2:.2f}\")\n",
    "\n",
    "models = {\n",
    "    \"KNN\": y_pred_knn,\n",
    "    \"SVR\": y_pred_svr,\n",
    "    \"Decision Tree\": y_pred_dt,\n",
    "    \"Random Forest\": y_pred_rf,\n",
    "    \"ANN\": y_pred_ann\n",
    "}\n",
    "\n",
    "for name, pred in models.items():\n",
    "    evaluate_model(y_test, pred, name)\n",
    "\n",
    "# -------------------------------\n",
    "# 4️⃣ Pseudo-Accuracy (Optional)\n",
    "# -------------------------------\n",
    "def pseudo_accuracy(y_true, y_pred, tol=5):\n",
    "    correct = np.abs(y_true - y_pred) <= tol\n",
    "    return np.mean(correct)\n",
    "\n",
    "for name, pred in models.items():\n",
    "    acc = pseudo_accuracy(y_test, pred)\n",
    "    print(f\"{name} pseudo-accuracy (±5%): {acc*100:.2f}%\")\n",
    "\n",
    "# -------------------------------\n",
    "# 5️⃣ Visual Comparison of R² Scores\n",
    "# -------------------------------\n",
    "import matplotlib.pyplot as plt\n",
    "\n",
    "plt.figure(figsize=(10,5))\n",
    "plt.bar(models.keys(), [r2_score(y_test, pred) for pred in models.values()], color='skyblue')\n",
    "plt.ylabel(\"R² Score\")\n",
    "plt.title(\"Comparison of Regression Models\")\n",
    "plt.ylim(0,1)\n",
    "plt.show()\n"
   ]
  },
  {
   "cell_type": "code",
   "execution_count": null,
   "id": "62e806a1",
   "metadata": {},
   "outputs": [],
   "source": []
  }
 ],
 "metadata": {
  "kernelspec": {
   "display_name": "Python 3",
   "language": "python",
   "name": "python3"
  },
  "language_info": {
   "codemirror_mode": {
    "name": "ipython",
    "version": 3
   },
   "file_extension": ".py",
   "mimetype": "text/x-python",
   "name": "python",
   "nbconvert_exporter": "python",
   "pygments_lexer": "ipython3",
   "version": "3.12.0"
  }
 },
 "nbformat": 4,
 "nbformat_minor": 5
}
